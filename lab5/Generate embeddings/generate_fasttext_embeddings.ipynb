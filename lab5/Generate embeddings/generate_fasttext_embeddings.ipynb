{
  "cells": [
    {
      "attachments": {},
      "cell_type": "markdown",
      "metadata": {
        "id": "SiRkGBY8Yqa4"
      },
      "source": [
        "<h3>Download necessary package</h3>"
      ]
    },
    {
      "cell_type": "code",
      "execution_count": 3,
      "metadata": {
        "colab": {
          "base_uri": "https://localhost:8080/"
        },
        "id": "SSroN2kkYul4",
        "outputId": "9b6995f6-d6be-4acd-8b09-bcddcd50b9bb"
      },
      "outputs": [
        {
          "name": "stderr",
          "output_type": "stream",
          "text": [
            "'sudo' is not recognized as an internal or external command,\n",
            "operable program or batch file.\n"
          ]
        },
        {
          "name": "stdout",
          "output_type": "stream",
          "text": [
            "Collecting fasttext\n",
            "  Using cached fasttext-0.9.2.tar.gz (68 kB)\n",
            "  Preparing metadata (setup.py): started\n",
            "  Preparing metadata (setup.py): finished with status 'done'\n",
            "Requirement already satisfied: numpy in c:\\users\\kubas\\anaconda3\\lib\\site-packages (1.23.5)\n",
            "Requirement already satisfied: pybind11>=2.2 in c:\\users\\kubas\\anaconda3\\lib\\site-packages (from fasttext) (2.10.4)\n",
            "Requirement already satisfied: setuptools>=0.7.0 in c:\\users\\kubas\\anaconda3\\lib\\site-packages (from fasttext) (65.6.3)\n",
            "Building wheels for collected packages: fasttext\n",
            "  Building wheel for fasttext (setup.py): started\n",
            "  Building wheel for fasttext (setup.py): finished with status 'error'\n",
            "  Running setup.py clean for fasttext\n",
            "Failed to build fasttext\n",
            "Installing collected packages: fasttext\n",
            "  Running setup.py install for fasttext: started\n",
            "  Running setup.py install for fasttext: finished with status 'error'\n"
          ]
        },
        {
          "name": "stderr",
          "output_type": "stream",
          "text": [
            "  error: subprocess-exited-with-error\n",
            "  \n",
            "  × python setup.py bdist_wheel did not run successfully.\n",
            "  │ exit code: 1\n",
            "  ╰─> [62 lines of output]\n",
            "      C:\\Users\\kubas\\anaconda3\\lib\\site-packages\\setuptools\\dist.py:770: UserWarning: Usage of dash-separated 'description-file' will not be supported in future versions. Please use the underscore name 'description_file' instead\n",
            "        warnings.warn(\n",
            "      running bdist_wheel\n",
            "      running build\n",
            "      running build_py\n",
            "      creating build\n",
            "      creating build\\lib.win-amd64-cpython-310\n",
            "      creating build\\lib.win-amd64-cpython-310\\fasttext\n",
            "      copying python\\fasttext_module\\fasttext\\FastText.py -> build\\lib.win-amd64-cpython-310\\fasttext\n",
            "      copying python\\fasttext_module\\fasttext\\__init__.py -> build\\lib.win-amd64-cpython-310\\fasttext\n",
            "      creating build\\lib.win-amd64-cpython-310\\fasttext\\util\n",
            "      copying python\\fasttext_module\\fasttext\\util\\util.py -> build\\lib.win-amd64-cpython-310\\fasttext\\util\n",
            "      copying python\\fasttext_module\\fasttext\\util\\__init__.py -> build\\lib.win-amd64-cpython-310\\fasttext\\util\n",
            "      creating build\\lib.win-amd64-cpython-310\\fasttext\\tests\n",
            "      copying python\\fasttext_module\\fasttext\\tests\\test_configurations.py -> build\\lib.win-amd64-cpython-310\\fasttext\\tests\n",
            "      copying python\\fasttext_module\\fasttext\\tests\\test_script.py -> build\\lib.win-amd64-cpython-310\\fasttext\\tests\n",
            "      copying python\\fasttext_module\\fasttext\\tests\\__init__.py -> build\\lib.win-amd64-cpython-310\\fasttext\\tests\n",
            "      running build_ext\n",
            "      building 'fasttext_pybind' extension\n",
            "      creating build\\temp.win-amd64-cpython-310\n",
            "      creating build\\temp.win-amd64-cpython-310\\Release\n",
            "      creating build\\temp.win-amd64-cpython-310\\Release\\python\n",
            "      creating build\\temp.win-amd64-cpython-310\\Release\\python\\fasttext_module\n",
            "      creating build\\temp.win-amd64-cpython-310\\Release\\python\\fasttext_module\\fasttext\n",
            "      creating build\\temp.win-amd64-cpython-310\\Release\\python\\fasttext_module\\fasttext\\pybind\n",
            "      creating build\\temp.win-amd64-cpython-310\\Release\\src\n",
            "      \"C:\\Program Files\\Microsoft Visual Studio\\2022\\Community\\VC\\Tools\\MSVC\\14.35.32215\\bin\\HostX86\\x64\\cl.exe\" /c /nologo /O2 /W3 /GL /DNDEBUG /MD -IC:\\Users\\kubas\\anaconda3\\lib\\site-packages\\pybind11\\include -IC:\\Users\\kubas\\anaconda3\\lib\\site-packages\\pybind11\\include -Isrc -IC:\\Users\\kubas\\anaconda3\\include -IC:\\Users\\kubas\\anaconda3\\Include \"-IC:\\Program Files\\Microsoft Visual Studio\\2022\\Community\\VC\\Tools\\MSVC\\14.35.32215\\include\" \"-IC:\\Program Files\\Microsoft Visual Studio\\2022\\Community\\VC\\Tools\\MSVC\\14.35.32215\\ATLMFC\\include\" \"-IC:\\Program Files\\Microsoft Visual Studio\\2022\\Community\\VC\\Auxiliary\\VS\\include\" \"-IC:\\Program Files (x86)\\Windows Kits\\10\\include\\10.0.22000.0\\ucrt\" \"-IC:\\Program Files (x86)\\Windows Kits\\10\\\\include\\10.0.22000.0\\\\um\" \"-IC:\\Program Files (x86)\\Windows Kits\\10\\\\include\\10.0.22000.0\\\\shared\" \"-IC:\\Program Files (x86)\\Windows Kits\\10\\\\include\\10.0.22000.0\\\\winrt\" \"-IC:\\Program Files (x86)\\Windows Kits\\10\\\\include\\10.0.22000.0\\\\cppwinrt\" \"-IC:\\Program Files (x86)\\Windows Kits\\NETFXSDK\\4.8\\include\\um\" /EHsc /Tppython/fasttext_module/fasttext/pybind/fasttext_pybind.cc /Fobuild\\temp.win-amd64-cpython-310\\Release\\python/fasttext_module/fasttext/pybind/fasttext_pybind.obj /EHsc /DVERSION_INFO=\\\\\\\"0.9.2\\\\\\\"\n",
            "      fasttext_pybind.cc\n",
            "      python/fasttext_module/fasttext/pybind/fasttext_pybind.cc(171): error C2065: \"ssize_t\": niezadeklarowany identyfikator\n",
            "      python/fasttext_module/fasttext/pybind/fasttext_pybind.cc(171): error C2672: \"pybind11::init\": nie znaleziono zgodnej przeci\\xa5\\xbeonej funkcji\n",
            "      C:\\Users\\kubas\\anaconda3\\lib\\site-packages\\pybind11\\include\\pybind11\\pybind11.h(1924): note: mo\\xbee to by\\x86 \"Ret pybind11::init(CFunc &&,AFunc &&)\"\n",
            "      python/fasttext_module/fasttext/pybind/fasttext_pybind.cc(171): note: \"pybind11::init\": nieprawid\\x88owy argument szablon dla \"CFunc\", oczekiwano typu\n",
            "      C:\\Users\\kubas\\anaconda3\\lib\\site-packages\\pybind11\\include\\pybind11\\pybind11.h(1916): note: lub       \"Ret pybind11::init(Func &&)\"\n",
            "      python/fasttext_module/fasttext/pybind/fasttext_pybind.cc(171): note: \"pybind11::init\": nieprawid\\x88owy argument szablon dla \"Func\", oczekiwano typu\n",
            "      C:\\Users\\kubas\\anaconda3\\lib\\site-packages\\pybind11\\include\\pybind11\\pybind11.h(1904): note: lub       \"pybind11::detail::initimpl::constructor<Args...> pybind11::init(void)\"\n",
            "      python/fasttext_module/fasttext/pybind/fasttext_pybind.cc(171): note: \"pybind11::init\": nieprawid\\x88owy argument szablon dla \"Args\", oczekiwano typu\n",
            "      python/fasttext_module/fasttext/pybind/fasttext_pybind.cc(171): error C2672: \"pybind11::class_<fasttext::Vector>::def\": nie znaleziono zgodnej przeci\\xa5\\xbeonej funkcji\n",
            "      C:\\Users\\kubas\\anaconda3\\lib\\site-packages\\pybind11\\include\\pybind11\\pybind11.h(1624): note: mo\\xbee to by\\x86 \"pybind11::class_<fasttext::Vector> &pybind11::class_<fasttext::Vector>::def(pybind11::detail::initimpl::pickle_factory<Args...> &&,const Extra &...)\"\n",
            "      C:\\Users\\kubas\\anaconda3\\lib\\site-packages\\pybind11\\include\\pybind11\\pybind11.h(1618): note: lub       \"pybind11::class_<fasttext::Vector> &pybind11::class_<fasttext::Vector>::def(pybind11::detail::initimpl::factory<Args...> &&,const Extra &...)\"\n",
            "      C:\\Users\\kubas\\anaconda3\\lib\\site-packages\\pybind11\\include\\pybind11\\pybind11.h(1611): note: lub       \"pybind11::class_<fasttext::Vector> &pybind11::class_<fasttext::Vector>::def(const pybind11::detail::initimpl::alias_constructor<Args...> &,const Extra &...)\"\n",
            "      C:\\Users\\kubas\\anaconda3\\lib\\site-packages\\pybind11\\include\\pybind11\\pybind11.h(1604): note: lub       \"pybind11::class_<fasttext::Vector> &pybind11::class_<fasttext::Vector>::def(const pybind11::detail::initimpl::constructor<Args...> &,const Extra &...)\"\n",
            "      C:\\Users\\kubas\\anaconda3\\lib\\site-packages\\pybind11\\include\\pybind11\\pybind11.h(1592): note: lub       \"pybind11::class_<fasttext::Vector> &pybind11::class_<fasttext::Vector>::def(const T &,const Extra &...)\"\n",
            "      C:\\Users\\kubas\\anaconda3\\lib\\site-packages\\pybind11\\include\\pybind11\\pybind11.h(1567): note: lub       \"pybind11::class_<fasttext::Vector> &pybind11::class_<fasttext::Vector>::def(const char *,Func &&,const Extra &...)\"\n",
            "      python/fasttext_module/fasttext/pybind/fasttext_pybind.cc(171): note: \"pybind11::class_<fasttext::Vector> &pybind11::class_<fasttext::Vector>::def(const char *,Func &&,const Extra &...)\": oczekuje 3 argument\\xa2w - podano 1\n",
            "      python/fasttext_module/fasttext/pybind/fasttext_pybind.cc(185): error C2065: \"ssize_t\": niezadeklarowany identyfikator\n",
            "      python/fasttext_module/fasttext/pybind/fasttext_pybind.cc(185): error C2065: \"ssize_t\": niezadeklarowany identyfikator\n",
            "      python/fasttext_module/fasttext/pybind/fasttext_pybind.cc(185): error C2672: \"pybind11::init\": nie znaleziono zgodnej przeci\\xa5\\xbeonej funkcji\n",
            "      C:\\Users\\kubas\\anaconda3\\lib\\site-packages\\pybind11\\include\\pybind11\\pybind11.h(1924): note: mo\\xbee to by\\x86 \"Ret pybind11::init(CFunc &&,AFunc &&)\"\n",
            "      python/fasttext_module/fasttext/pybind/fasttext_pybind.cc(185): note: \"pybind11::init\": nieprawid\\x88owy argument szablon dla \"CFunc\", oczekiwano typu\n",
            "      C:\\Users\\kubas\\anaconda3\\lib\\site-packages\\pybind11\\include\\pybind11\\pybind11.h(1916): note: lub       \"Ret pybind11::init(Func &&)\"\n",
            "      python/fasttext_module/fasttext/pybind/fasttext_pybind.cc(185): note: \"pybind11::init\": nieprawid\\x88owy argument szablon dla \"Func\", oczekiwano typu\n",
            "      C:\\Users\\kubas\\anaconda3\\lib\\site-packages\\pybind11\\include\\pybind11\\pybind11.h(1904): note: lub       \"pybind11::detail::initimpl::constructor<Args...> pybind11::init(void)\"\n",
            "      python/fasttext_module/fasttext/pybind/fasttext_pybind.cc(185): note: \"pybind11::init\": nieprawid\\x88owy argument szablon dla \"Args\", oczekiwano typu\n",
            "      python/fasttext_module/fasttext/pybind/fasttext_pybind.cc(185): error C2672: \"pybind11::class_<fasttext::DenseMatrix>::def\": nie znaleziono zgodnej przeci\\xa5\\xbeonej funkcji\n",
            "      C:\\Users\\kubas\\anaconda3\\lib\\site-packages\\pybind11\\include\\pybind11\\pybind11.h(1624): note: mo\\xbee to by\\x86 \"pybind11::class_<fasttext::DenseMatrix> &pybind11::class_<fasttext::DenseMatrix>::def(pybind11::detail::initimpl::pickle_factory<Args...> &&,const Extra &...)\"\n",
            "      C:\\Users\\kubas\\anaconda3\\lib\\site-packages\\pybind11\\include\\pybind11\\pybind11.h(1618): note: lub       \"pybind11::class_<fasttext::DenseMatrix> &pybind11::class_<fasttext::DenseMatrix>::def(pybind11::detail::initimpl::factory<Args...> &&,const Extra &...)\"\n",
            "      C:\\Users\\kubas\\anaconda3\\lib\\site-packages\\pybind11\\include\\pybind11\\pybind11.h(1611): note: lub       \"pybind11::class_<fasttext::DenseMatrix> &pybind11::class_<fasttext::DenseMatrix>::def(const pybind11::detail::initimpl::alias_constructor<Args...> &,const Extra &...)\"\n",
            "      C:\\Users\\kubas\\anaconda3\\lib\\site-packages\\pybind11\\include\\pybind11\\pybind11.h(1604): note: lub       \"pybind11::class_<fasttext::DenseMatrix> &pybind11::class_<fasttext::DenseMatrix>::def(const pybind11::detail::initimpl::constructor<Args...> &,const Extra &...)\"\n",
            "      C:\\Users\\kubas\\anaconda3\\lib\\site-packages\\pybind11\\include\\pybind11\\pybind11.h(1592): note: lub       \"pybind11::class_<fasttext::DenseMatrix> &pybind11::class_<fasttext::DenseMatrix>::def(const T &,const Extra &...)\"\n",
            "      C:\\Users\\kubas\\anaconda3\\lib\\site-packages\\pybind11\\include\\pybind11\\pybind11.h(1567): note: lub       \"pybind11::class_<fasttext::DenseMatrix> &pybind11::class_<fasttext::DenseMatrix>::def(const char *,Func &&,const Extra &...)\"\n",
            "      python/fasttext_module/fasttext/pybind/fasttext_pybind.cc(185): note: \"pybind11::class_<fasttext::DenseMatrix> &pybind11::class_<fasttext::DenseMatrix>::def(const char *,Func &&,const Extra &...)\": oczekuje 3 argument\\xa2w - podano 1\n",
            "      error: command 'C:\\\\Program Files\\\\Microsoft Visual Studio\\\\2022\\\\Community\\\\VC\\\\Tools\\\\MSVC\\\\14.35.32215\\\\bin\\\\HostX86\\\\x64\\\\cl.exe' failed with exit code 2\n",
            "      [end of output]\n",
            "  \n",
            "  note: This error originates from a subprocess, and is likely not a problem with pip.\n",
            "  ERROR: Failed building wheel for fasttext\n",
            "  error: subprocess-exited-with-error\n",
            "  \n",
            "  × Running setup.py install for fasttext did not run successfully.\n",
            "  │ exit code: 1\n",
            "  ╰─> [64 lines of output]\n",
            "      C:\\Users\\kubas\\anaconda3\\lib\\site-packages\\setuptools\\dist.py:770: UserWarning: Usage of dash-separated 'description-file' will not be supported in future versions. Please use the underscore name 'description_file' instead\n",
            "        warnings.warn(\n",
            "      running install\n",
            "      C:\\Users\\kubas\\anaconda3\\lib\\site-packages\\setuptools\\command\\install.py:34: SetuptoolsDeprecationWarning: setup.py install is deprecated. Use build and pip and other standards-based tools.\n",
            "        warnings.warn(\n",
            "      running build\n",
            "      running build_py\n",
            "      creating build\n",
            "      creating build\\lib.win-amd64-cpython-310\n",
            "      creating build\\lib.win-amd64-cpython-310\\fasttext\n",
            "      copying python\\fasttext_module\\fasttext\\FastText.py -> build\\lib.win-amd64-cpython-310\\fasttext\n",
            "      copying python\\fasttext_module\\fasttext\\__init__.py -> build\\lib.win-amd64-cpython-310\\fasttext\n",
            "      creating build\\lib.win-amd64-cpython-310\\fasttext\\util\n",
            "      copying python\\fasttext_module\\fasttext\\util\\util.py -> build\\lib.win-amd64-cpython-310\\fasttext\\util\n",
            "      copying python\\fasttext_module\\fasttext\\util\\__init__.py -> build\\lib.win-amd64-cpython-310\\fasttext\\util\n",
            "      creating build\\lib.win-amd64-cpython-310\\fasttext\\tests\n",
            "      copying python\\fasttext_module\\fasttext\\tests\\test_configurations.py -> build\\lib.win-amd64-cpython-310\\fasttext\\tests\n",
            "      copying python\\fasttext_module\\fasttext\\tests\\test_script.py -> build\\lib.win-amd64-cpython-310\\fasttext\\tests\n",
            "      copying python\\fasttext_module\\fasttext\\tests\\__init__.py -> build\\lib.win-amd64-cpython-310\\fasttext\\tests\n",
            "      running build_ext\n",
            "      building 'fasttext_pybind' extension\n",
            "      creating build\\temp.win-amd64-cpython-310\n",
            "      creating build\\temp.win-amd64-cpython-310\\Release\n",
            "      creating build\\temp.win-amd64-cpython-310\\Release\\python\n",
            "      creating build\\temp.win-amd64-cpython-310\\Release\\python\\fasttext_module\n",
            "      creating build\\temp.win-amd64-cpython-310\\Release\\python\\fasttext_module\\fasttext\n",
            "      creating build\\temp.win-amd64-cpython-310\\Release\\python\\fasttext_module\\fasttext\\pybind\n",
            "      creating build\\temp.win-amd64-cpython-310\\Release\\src\n",
            "      \"C:\\Program Files\\Microsoft Visual Studio\\2022\\Community\\VC\\Tools\\MSVC\\14.35.32215\\bin\\HostX86\\x64\\cl.exe\" /c /nologo /O2 /W3 /GL /DNDEBUG /MD -IC:\\Users\\kubas\\anaconda3\\lib\\site-packages\\pybind11\\include -IC:\\Users\\kubas\\anaconda3\\lib\\site-packages\\pybind11\\include -Isrc -IC:\\Users\\kubas\\anaconda3\\include -IC:\\Users\\kubas\\anaconda3\\Include \"-IC:\\Program Files\\Microsoft Visual Studio\\2022\\Community\\VC\\Tools\\MSVC\\14.35.32215\\include\" \"-IC:\\Program Files\\Microsoft Visual Studio\\2022\\Community\\VC\\Tools\\MSVC\\14.35.32215\\ATLMFC\\include\" \"-IC:\\Program Files\\Microsoft Visual Studio\\2022\\Community\\VC\\Auxiliary\\VS\\include\" \"-IC:\\Program Files (x86)\\Windows Kits\\10\\include\\10.0.22000.0\\ucrt\" \"-IC:\\Program Files (x86)\\Windows Kits\\10\\\\include\\10.0.22000.0\\\\um\" \"-IC:\\Program Files (x86)\\Windows Kits\\10\\\\include\\10.0.22000.0\\\\shared\" \"-IC:\\Program Files (x86)\\Windows Kits\\10\\\\include\\10.0.22000.0\\\\winrt\" \"-IC:\\Program Files (x86)\\Windows Kits\\10\\\\include\\10.0.22000.0\\\\cppwinrt\" \"-IC:\\Program Files (x86)\\Windows Kits\\NETFXSDK\\4.8\\include\\um\" /EHsc /Tppython/fasttext_module/fasttext/pybind/fasttext_pybind.cc /Fobuild\\temp.win-amd64-cpython-310\\Release\\python/fasttext_module/fasttext/pybind/fasttext_pybind.obj /EHsc /DVERSION_INFO=\\\\\\\"0.9.2\\\\\\\"\n",
            "      fasttext_pybind.cc\n",
            "      python/fasttext_module/fasttext/pybind/fasttext_pybind.cc(171): error C2065: \"ssize_t\": niezadeklarowany identyfikator\n",
            "      python/fasttext_module/fasttext/pybind/fasttext_pybind.cc(171): error C2672: \"pybind11::init\": nie znaleziono zgodnej przeci\\xa5\\xbeonej funkcji\n",
            "      C:\\Users\\kubas\\anaconda3\\lib\\site-packages\\pybind11\\include\\pybind11\\pybind11.h(1924): note: mo\\xbee to by\\x86 \"Ret pybind11::init(CFunc &&,AFunc &&)\"\n",
            "      python/fasttext_module/fasttext/pybind/fasttext_pybind.cc(171): note: \"pybind11::init\": nieprawid\\x88owy argument szablon dla \"CFunc\", oczekiwano typu\n",
            "      C:\\Users\\kubas\\anaconda3\\lib\\site-packages\\pybind11\\include\\pybind11\\pybind11.h(1916): note: lub       \"Ret pybind11::init(Func &&)\"\n",
            "      python/fasttext_module/fasttext/pybind/fasttext_pybind.cc(171): note: \"pybind11::init\": nieprawid\\x88owy argument szablon dla \"Func\", oczekiwano typu\n",
            "      C:\\Users\\kubas\\anaconda3\\lib\\site-packages\\pybind11\\include\\pybind11\\pybind11.h(1904): note: lub       \"pybind11::detail::initimpl::constructor<Args...> pybind11::init(void)\"\n",
            "      python/fasttext_module/fasttext/pybind/fasttext_pybind.cc(171): note: \"pybind11::init\": nieprawid\\x88owy argument szablon dla \"Args\", oczekiwano typu\n",
            "      python/fasttext_module/fasttext/pybind/fasttext_pybind.cc(171): error C2672: \"pybind11::class_<fasttext::Vector>::def\": nie znaleziono zgodnej przeci\\xa5\\xbeonej funkcji\n",
            "      C:\\Users\\kubas\\anaconda3\\lib\\site-packages\\pybind11\\include\\pybind11\\pybind11.h(1624): note: mo\\xbee to by\\x86 \"pybind11::class_<fasttext::Vector> &pybind11::class_<fasttext::Vector>::def(pybind11::detail::initimpl::pickle_factory<Args...> &&,const Extra &...)\"\n",
            "      C:\\Users\\kubas\\anaconda3\\lib\\site-packages\\pybind11\\include\\pybind11\\pybind11.h(1618): note: lub       \"pybind11::class_<fasttext::Vector> &pybind11::class_<fasttext::Vector>::def(pybind11::detail::initimpl::factory<Args...> &&,const Extra &...)\"\n",
            "      C:\\Users\\kubas\\anaconda3\\lib\\site-packages\\pybind11\\include\\pybind11\\pybind11.h(1611): note: lub       \"pybind11::class_<fasttext::Vector> &pybind11::class_<fasttext::Vector>::def(const pybind11::detail::initimpl::alias_constructor<Args...> &,const Extra &...)\"\n",
            "      C:\\Users\\kubas\\anaconda3\\lib\\site-packages\\pybind11\\include\\pybind11\\pybind11.h(1604): note: lub       \"pybind11::class_<fasttext::Vector> &pybind11::class_<fasttext::Vector>::def(const pybind11::detail::initimpl::constructor<Args...> &,const Extra &...)\"\n",
            "      C:\\Users\\kubas\\anaconda3\\lib\\site-packages\\pybind11\\include\\pybind11\\pybind11.h(1592): note: lub       \"pybind11::class_<fasttext::Vector> &pybind11::class_<fasttext::Vector>::def(const T &,const Extra &...)\"\n",
            "      C:\\Users\\kubas\\anaconda3\\lib\\site-packages\\pybind11\\include\\pybind11\\pybind11.h(1567): note: lub       \"pybind11::class_<fasttext::Vector> &pybind11::class_<fasttext::Vector>::def(const char *,Func &&,const Extra &...)\"\n",
            "      python/fasttext_module/fasttext/pybind/fasttext_pybind.cc(171): note: \"pybind11::class_<fasttext::Vector> &pybind11::class_<fasttext::Vector>::def(const char *,Func &&,const Extra &...)\": oczekuje 3 argument\\xa2w - podano 1\n",
            "      python/fasttext_module/fasttext/pybind/fasttext_pybind.cc(185): error C2065: \"ssize_t\": niezadeklarowany identyfikator\n",
            "      python/fasttext_module/fasttext/pybind/fasttext_pybind.cc(185): error C2065: \"ssize_t\": niezadeklarowany identyfikator\n",
            "      python/fasttext_module/fasttext/pybind/fasttext_pybind.cc(185): error C2672: \"pybind11::init\": nie znaleziono zgodnej przeci\\xa5\\xbeonej funkcji\n",
            "      C:\\Users\\kubas\\anaconda3\\lib\\site-packages\\pybind11\\include\\pybind11\\pybind11.h(1924): note: mo\\xbee to by\\x86 \"Ret pybind11::init(CFunc &&,AFunc &&)\"\n",
            "      python/fasttext_module/fasttext/pybind/fasttext_pybind.cc(185): note: \"pybind11::init\": nieprawid\\x88owy argument szablon dla \"CFunc\", oczekiwano typu\n",
            "      C:\\Users\\kubas\\anaconda3\\lib\\site-packages\\pybind11\\include\\pybind11\\pybind11.h(1916): note: lub       \"Ret pybind11::init(Func &&)\"\n",
            "      python/fasttext_module/fasttext/pybind/fasttext_pybind.cc(185): note: \"pybind11::init\": nieprawid\\x88owy argument szablon dla \"Func\", oczekiwano typu\n",
            "      C:\\Users\\kubas\\anaconda3\\lib\\site-packages\\pybind11\\include\\pybind11\\pybind11.h(1904): note: lub       \"pybind11::detail::initimpl::constructor<Args...> pybind11::init(void)\"\n",
            "      python/fasttext_module/fasttext/pybind/fasttext_pybind.cc(185): note: \"pybind11::init\": nieprawid\\x88owy argument szablon dla \"Args\", oczekiwano typu\n",
            "      python/fasttext_module/fasttext/pybind/fasttext_pybind.cc(185): error C2672: \"pybind11::class_<fasttext::DenseMatrix>::def\": nie znaleziono zgodnej przeci\\xa5\\xbeonej funkcji\n",
            "      C:\\Users\\kubas\\anaconda3\\lib\\site-packages\\pybind11\\include\\pybind11\\pybind11.h(1624): note: mo\\xbee to by\\x86 \"pybind11::class_<fasttext::DenseMatrix> &pybind11::class_<fasttext::DenseMatrix>::def(pybind11::detail::initimpl::pickle_factory<Args...> &&,const Extra &...)\"\n",
            "      C:\\Users\\kubas\\anaconda3\\lib\\site-packages\\pybind11\\include\\pybind11\\pybind11.h(1618): note: lub       \"pybind11::class_<fasttext::DenseMatrix> &pybind11::class_<fasttext::DenseMatrix>::def(pybind11::detail::initimpl::factory<Args...> &&,const Extra &...)\"\n",
            "      C:\\Users\\kubas\\anaconda3\\lib\\site-packages\\pybind11\\include\\pybind11\\pybind11.h(1611): note: lub       \"pybind11::class_<fasttext::DenseMatrix> &pybind11::class_<fasttext::DenseMatrix>::def(const pybind11::detail::initimpl::alias_constructor<Args...> &,const Extra &...)\"\n",
            "      C:\\Users\\kubas\\anaconda3\\lib\\site-packages\\pybind11\\include\\pybind11\\pybind11.h(1604): note: lub       \"pybind11::class_<fasttext::DenseMatrix> &pybind11::class_<fasttext::DenseMatrix>::def(const pybind11::detail::initimpl::constructor<Args...> &,const Extra &...)\"\n",
            "      C:\\Users\\kubas\\anaconda3\\lib\\site-packages\\pybind11\\include\\pybind11\\pybind11.h(1592): note: lub       \"pybind11::class_<fasttext::DenseMatrix> &pybind11::class_<fasttext::DenseMatrix>::def(const T &,const Extra &...)\"\n",
            "      C:\\Users\\kubas\\anaconda3\\lib\\site-packages\\pybind11\\include\\pybind11\\pybind11.h(1567): note: lub       \"pybind11::class_<fasttext::DenseMatrix> &pybind11::class_<fasttext::DenseMatrix>::def(const char *,Func &&,const Extra &...)\"\n",
            "      python/fasttext_module/fasttext/pybind/fasttext_pybind.cc(185): note: \"pybind11::class_<fasttext::DenseMatrix> &pybind11::class_<fasttext::DenseMatrix>::def(const char *,Func &&,const Extra &...)\": oczekuje 3 argument\\xa2w - podano 1\n",
            "      error: command 'C:\\\\Program Files\\\\Microsoft Visual Studio\\\\2022\\\\Community\\\\VC\\\\Tools\\\\MSVC\\\\14.35.32215\\\\bin\\\\HostX86\\\\x64\\\\cl.exe' failed with exit code 2\n",
            "      [end of output]\n",
            "  \n",
            "  note: This error originates from a subprocess, and is likely not a problem with pip.\n",
            "error: legacy-install-failure\n",
            "\n",
            "× Encountered error while trying to install package.\n",
            "╰─> fasttext\n",
            "\n",
            "note: This is an issue with the package mentioned above, not pip.\n",
            "hint: See above for output from the failure.\n"
          ]
        }
      ],
      "source": [
        "!sudo apt install wget gzip\n",
        "!pip install fasttext numpy"
      ]
    },
    {
      "attachments": {},
      "cell_type": "markdown",
      "metadata": {
        "id": "54IdLhDWY5hX"
      },
      "source": [
        "<h3>Import module</h3>"
      ]
    },
    {
      "cell_type": "code",
      "execution_count": 16,
      "metadata": {
        "id": "e-mJqwfdY_dv"
      },
      "outputs": [],
      "source": [
        "import fasttext.util\n",
        "import numpy as np"
      ]
    },
    {
      "attachments": {},
      "cell_type": "markdown",
      "metadata": {
        "id": "s-QPrL6SZA96"
      },
      "source": [
        "<h3>Download and unzip fastText model</h3>"
      ]
    },
    {
      "cell_type": "code",
      "execution_count": 2,
      "metadata": {
        "colab": {
          "base_uri": "https://localhost:8080/"
        },
        "id": "IpvIpv_Tb0Cw",
        "outputId": "8362d4c2-577f-4902-badf-48a963713a86"
      },
      "outputs": [
        {
          "name": "stderr",
          "output_type": "stream",
          "text": [
            "'wget' is not recognized as an internal or external command,\n",
            "operable program or batch file.\n"
          ]
        }
      ],
      "source": [
        "!wget -O cc.en.300.bin.gz https://dl.fbaipublicfiles.com/fasttext/vectors-crawl/cc.en.300.bin.gz"
      ]
    },
    {
      "attachments": {},
      "cell_type": "markdown",
      "metadata": {
        "id": "M264_L40dEd3"
      },
      "source": [
        "<h3>Unzip previously downloaded model</h3>"
      ]
    },
    {
      "cell_type": "code",
      "execution_count": 8,
      "metadata": {
        "id": "EdHki7zgdJiW"
      },
      "outputs": [],
      "source": [
        "!gzip -d cc.en.300.bin.gz"
      ]
    },
    {
      "attachments": {},
      "cell_type": "markdown",
      "metadata": {
        "id": "VUEz7VUMZIKS"
      },
      "source": [
        "<h3>Load model</h3>"
      ]
    },
    {
      "cell_type": "code",
      "execution_count": 10,
      "metadata": {
        "colab": {
          "base_uri": "https://localhost:8080/"
        },
        "id": "RBAFxfqxYmDb",
        "outputId": "2095a2ba-a6b4-4b3f-cec0-29d4bbb566b3"
      },
      "outputs": [
        {
          "name": "stderr",
          "output_type": "stream",
          "text": [
            "Warning : `load_model` does not return WordVectorModel or SupervisedModel any more, but a `FastText` object which is very similar.\n"
          ]
        }
      ],
      "source": [
        "model = fasttext.load_model('cc.en.300.bin')"
      ]
    },
    {
      "attachments": {},
      "cell_type": "markdown",
      "metadata": {
        "id": "65qCZcPhZW01"
      },
      "source": [
        "<h3>Generate embeddings for the specified list of texts</h3>"
      ]
    },
    {
      "cell_type": "code",
      "execution_count": 17,
      "metadata": {
        "colab": {
          "base_uri": "https://localhost:8080/"
        },
        "id": "OseM-d65ZX6S",
        "outputId": "1886926a-1c58-49db-c790-f4844c9551c0"
      },
      "outputs": [
        {
          "data": {
            "text/plain": [
              "(2, 300)"
            ]
          },
          "execution_count": 17,
          "metadata": {},
          "output_type": "execute_result"
        }
      ],
      "source": [
        "texts_list = [\"Hello, my dog is cute.\", \"I love Artificial Intelligence. Machine Learning is my passion!\"]\n",
        "\n",
        "embeddings = np.array([model.get_sentence_vector(text) for text in texts_list])\n",
        "\n",
        "embeddings.shape"
      ]
    }
  ],
  "metadata": {
    "colab": {
      "provenance": []
    },
    "kernelspec": {
      "display_name": "Python 3",
      "name": "python3"
    },
    "language_info": {
      "codemirror_mode": {
        "name": "ipython",
        "version": 3
      },
      "file_extension": ".py",
      "mimetype": "text/x-python",
      "name": "python",
      "nbconvert_exporter": "python",
      "pygments_lexer": "ipython3",
      "version": "3.10.9"
    }
  },
  "nbformat": 4,
  "nbformat_minor": 0
}
